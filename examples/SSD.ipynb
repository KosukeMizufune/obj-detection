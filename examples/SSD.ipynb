{
 "cells": [
  {
   "cell_type": "code",
   "execution_count": 0,
   "metadata": {
    "id": "GSu8eg5wQmX7",
    "colab_type": "code",
    "colab": {}
   },
   "outputs": [],
   "source": [
    "!curl https://colab.chainer.org/install | sh -\n",
    "\n",
    "!apt-get install graphviz\n",
    "!pip install 'chaineripy'\n",
    "!pip install 'chainercv'\n",
    "\n",
    "import sys\n",
    "import json\n",
    "\n",
    "import chainer\n",
    "from chainercv.datasets.voc.voc_bbox_dataset import VOCBboxDataset\n",
    "from chainer.datasets import TransformDataset, ConcatenatedDataset\n",
    "from chainercv.links import SSD300\n",
    "from chainercv.extensions import DetectionVOCEvaluator\n",
    "from chainercv.datasets import voc_bbox_label_names\n",
    "from chainer import iterators\n",
    "\n",
    "from google.colab import drive\n",
    "import numpy as np\n",
    "\n",
    "\n",
    "base_dir = './drive/My Drive/obj_detection'\n",
    "sys.path.append(base_dir)\n",
    "drive.mount('/content/drive')\n",
    "\n",
    "from execute import run_train\n",
    "from transform import Transform\n",
    "from classifier import SSDClassifier\n",
    "\n",
    "params = json.load(open(base_dir + '/params.json', \"r\"))"
   ]
  },
  {
   "cell_type": "code",
   "execution_count": 0,
   "metadata": {
    "id": "u0GrOJ7KW23M",
    "colab_type": "code",
    "colab": {}
   },
   "outputs": [],
   "source": [
    "# Model\n",
    "model = SSD300(n_fg_class=20, pretrained_model='imagenet')\n",
    "model.use_preset('evaluate')\n",
    "net = SSDClassifier(model, alpha=1, k=3)\n",
    "chainer.cuda.get_device_from_id(0).use()\n",
    "model.to_gpu()\n",
    "\n",
    "# Data Augmentation\n",
    "train = TransformDataset(\n",
    "    ConcatenatedDataset(\n",
    "            VOCBboxDataset(year='2007', split='trainval'),\n",
    "            VOCBboxDataset(year='2012', split='trainval')\n",
    "    ),\n",
    "    Transform(model.coder, model.insize, model.mean)\n",
    ")\n",
    "\n",
    "test = VOCBboxDataset(year='2007', split='test', use_difficult=True, return_difficult=True)\n",
    "train_iter = iterators.SerialIterator(train, params['batchsize'])\n",
    "test_iter = iterators.SerialIterator(test, params['batchsize'], repeat=False, shuffle=False)\n",
    "\n",
    "# Evaluator\n",
    "evaluator = DetectionVOCEvaluator(test_iter, net.predictor, use_07_metric=True, label_names=voc_bbox_label_names)"
   ]
  },
  {
   "cell_type": "code",
   "execution_count": 0,
   "metadata": {
    "id": "DsX5r3BbKqiz",
    "colab_type": "code",
    "colab": {}
   },
   "outputs": [],
   "source": [
    "params['save_trainer_interval'] = 6\n",
    "params['l2_lambda']     = 0.0005\n",
    "params['result_dir']    = 'drive/My Drive/study/result'\n",
    "params['print_report']  = [\"epoch\", \"main/loss\", \"main/loss/loc\", \"main/loss/conf\", \"val/main/map\", \"lr\", \"elapsed_time\"]\n",
    "run_train(train_iter, net, evaluator, **params)"
   ]
  },
  {
   "cell_type": "code",
   "execution_count": 0,
   "metadata": {
    "id": "qMXSsyUBoILk",
    "colab_type": "code",
    "colab": {}
   },
   "outputs": [],
   "source": [
    ""
   ]
  }
 ],
 "metadata": {
  "colab": {
   "name": "SSD.ipynb",
   "version": "0.3.2",
   "provenance": [],
   "collapsed_sections": []
  },
  "kernelspec": {
   "name": "python3",
   "display_name": "Python 3"
  },
  "accelerator": "GPU"
 },
 "nbformat": 4,
 "nbformat_minor": 0
}
